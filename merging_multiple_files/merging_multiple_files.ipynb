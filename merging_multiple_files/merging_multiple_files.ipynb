{
 "metadata": {
  "language_info": {
   "codemirror_mode": {
    "name": "ipython",
    "version": 3
   },
   "file_extension": ".py",
   "mimetype": "text/x-python",
   "name": "python",
   "nbconvert_exporter": "python",
   "pygments_lexer": "ipython3",
   "version": "3.8.3"
  },
  "orig_nbformat": 4,
  "kernelspec": {
   "name": "python3",
   "display_name": "Python 3.8.3 64-bit ('base': conda)"
  },
  "interpreter": {
   "hash": "cd8ac7ed5329ff1f59a8356dfddf06d159cf18414acbfd7b13d1d5cd1cbb5d7d"
  }
 },
 "nbformat": 4,
 "nbformat_minor": 2,
 "cells": [
  {
   "source": [
    "# Merging multiple excel files or csv files\n",
    "\n",
    "This tip is especially useful when the data from the database span a long period of time (say, 20 years). In that case, it is impossible to download data with tens or hundreds of variables in one single file; hence, it is more practical to download data into several files. That is why we need a simple code to concatenate all these files into one for further cleaning and analysis.\n",
    "\n",
    "Requirements for data\n",
    "<ol>\n",
    "<li>Files must have the same number of columns</li>\n",
    "<li>Columns have the same name and order</li></ol>\n",
    "Basically, the files are from the same database, so they have the same format."
   ],
   "cell_type": "markdown",
   "metadata": {}
  },
  {
   "cell_type": "code",
   "execution_count": 7,
   "metadata": {},
   "outputs": [],
   "source": [
    "# import necessary packages\n",
    "\n",
    "import pandas as pd\n",
    "import os\n",
    "import glob"
   ]
  },
  {
   "cell_type": "code",
   "execution_count": 8,
   "metadata": {},
   "outputs": [],
   "source": [
    "# define the extension of the files to be concatenated\n",
    "\n",
    "extension = 'csv' # can be changed to 'xlsx'\n",
    "all_filenames = [i for i in glob.glob('*.{}'.format(extension))]"
   ]
  },
  {
   "cell_type": "code",
   "execution_count": 9,
   "metadata": {},
   "outputs": [],
   "source": [
    "# combine all files in the list\n",
    "\n",
    "combined_file = pd.concat([pd.read_csv(f, skipfooter = 4, engine = \"python\") for f in all_filenames])\n",
    "\n",
    "# skipfooter parameter: to skip a certain number of lines at the end of the file. In this case, since the data files have four irrelevant lines at the end, skipping them is necessary. \n",
    "# engine parameter: Parser engine to use. The C engine is faster while the python engine is currently more feature-complete."
   ]
  },
  {
   "source": [
    "That's it. The \"combined_file\" can be further analysed in python or exported to local machine to analyse using excel."
   ],
   "cell_type": "markdown",
   "metadata": {}
  },
  {
   "cell_type": "code",
   "execution_count": 10,
   "metadata": {},
   "outputs": [],
   "source": [
    "# export to local machine\n",
    "\n",
    "combined_file.to_csv(\"combined_file.csv\")"
   ]
  }
 ]
}